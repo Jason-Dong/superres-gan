{
 "cells": [
  {
   "cell_type": "code",
   "execution_count": 1,
   "metadata": {},
   "outputs": [],
   "source": [
    "#from reds_dataset import Reds\n",
    "from data.vimeo_dataset import VimeoDataset\n",
    "from models.superresblock import SuperRes\n",
    "from torch.optim import Adam\n",
    "from torch import nn\n",
    "from models.lossfunc import PerceptualLoss\n",
    "from train import train, test, setup_data\n",
    "from torchvision.models import vgg16\n",
    "import cv2"
   ]
  },
  {
   "cell_type": "code",
   "execution_count": 2,
   "metadata": {},
   "outputs": [],
   "source": [
    "path_to_data = \"./\"\n",
    "use_cuda = False"
   ]
  },
  {
   "cell_type": "code",
   "execution_count": null,
   "metadata": {},
   "outputs": [],
   "source": []
  },
  {
   "cell_type": "code",
   "execution_count": 3,
   "metadata": {},
   "outputs": [
    {
     "name": "stdout",
     "output_type": "stream",
     "text": [
      "['training_data_1']\n"
     ]
    }
   ],
   "source": [
    "super_res_data = VimeoDataset(path_to_data)"
   ]
  },
  {
   "cell_type": "code",
   "execution_count": 4,
   "metadata": {},
   "outputs": [],
   "source": [
    "model = SuperRes()\n",
    "if use_cuda:\n",
    "    model.cuda()"
   ]
  },
  {
   "cell_type": "code",
   "execution_count": 5,
   "metadata": {},
   "outputs": [],
   "source": [
    "optimizer = Adam(model.parameters(), lr=1e-3) #parameters returns an iterator over the models parameters"
   ]
  },
  {
   "cell_type": "code",
   "execution_count": 6,
   "metadata": {},
   "outputs": [],
   "source": [
    "vgg = vgg16(pretrained=True)\n",
    "relu2_2 = nn.Sequential(*list(vgg.features)[:9])\n",
    "relu2_2.eval()\n",
    "if use_cuda:\n",
    "    relu2_2.cuda()"
   ]
  },
  {
   "cell_type": "code",
   "execution_count": 7,
   "metadata": {},
   "outputs": [],
   "source": [
    "criterion = PerceptualLoss(loss_network=relu2_2)"
   ]
  },
  {
   "cell_type": "code",
   "execution_count": 8,
   "metadata": {},
   "outputs": [],
   "source": [
    "#gotta write code to visualise some of our data\n",
    "ftrain = \"./\"#file path to train\n",
    "ftest = \"./\"#file path to test"
   ]
  },
  {
   "cell_type": "code",
   "execution_count": 9,
   "metadata": {},
   "outputs": [
    {
     "name": "stdout",
     "output_type": "stream",
     "text": [
      "['training_data_1']\n",
      "['training_data_1']\n"
     ]
    }
   ],
   "source": [
    "trainloader_task_2, testloader_task_2 = setup_data(ftrain, ftest, 1,0)\n"
   ]
  },
  {
   "cell_type": "code",
   "execution_count": 10,
   "metadata": {},
   "outputs": [],
   "source": [
    "epochs = 1 #to see if we have no errors, we can set this value to one"
   ]
  },
  {
   "cell_type": "code",
   "execution_count": 11,
   "metadata": {
    "scrolled": false
   },
   "outputs": [
    {
     "name": "stdout",
     "output_type": "stream",
     "text": [
      "Current Epoch: 0\n"
     ]
    },
    {
     "name": "stderr",
     "output_type": "stream",
     "text": [
      "\r",
      "  0%|          | 0/4130 [00:00<?, ?it/s]"
     ]
    },
    {
     "name": "stdout",
     "output_type": "stream",
     "text": [
      "training_data_1/dt_train_3679.jpg\n",
      "(720, 1024, 3) (180, 256, 3)\n",
      "torch.Size([3, 720, 1024]) torch.Size([3, 180, 256])\n"
     ]
    },
    {
     "name": "stderr",
     "output_type": "stream",
     "text": [
      "/opt/anaconda3/lib/python3.7/site-packages/torch/nn/functional.py:1558: UserWarning: nn.functional.tanh is deprecated. Use torch.tanh instead.\n",
      "  warnings.warn(\"nn.functional.tanh is deprecated. Use torch.tanh instead.\")\n"
     ]
    },
    {
     "name": "stdout",
     "output_type": "stream",
     "text": [
      "2.8245770931243896\n"
     ]
    },
    {
     "name": "stderr",
     "output_type": "stream",
     "text": [
      "Current training loss: 2.8246:   0%|          | 1/4130 [00:23<27:24:34, 23.90s/it]"
     ]
    },
    {
     "name": "stdout",
     "output_type": "stream",
     "text": [
      "training_data_1/dt_train_2419.jpg\n",
      "(720, 1024, 3) (180, 256, 3)\n",
      "torch.Size([3, 720, 1024]) torch.Size([3, 180, 256])\n",
      "0.944846510887146\n"
     ]
    },
    {
     "name": "stderr",
     "output_type": "stream",
     "text": [
      "Current training loss: 1.8847:   0%|          | 2/4130 [00:46<26:58:10, 23.52s/it]"
     ]
    },
    {
     "name": "stdout",
     "output_type": "stream",
     "text": [
      "training_data_1/dt_train_851.jpg\n",
      "(720, 1024, 3) (180, 256, 3)\n",
      "torch.Size([3, 720, 1024]) torch.Size([3, 180, 256])\n",
      "0.5452322363853455\n"
     ]
    },
    {
     "name": "stderr",
     "output_type": "stream",
     "text": [
      "Current training loss: 1.4382:   0%|          | 3/4130 [01:09<26:38:00, 23.23s/it]"
     ]
    },
    {
     "name": "stdout",
     "output_type": "stream",
     "text": [
      "training_data_1/dt_train_2686.jpg\n",
      "(720, 1024, 3) (180, 256, 3)\n",
      "torch.Size([3, 720, 1024]) torch.Size([3, 180, 256])\n",
      "0.6264244318008423\n"
     ]
    },
    {
     "name": "stderr",
     "output_type": "stream",
     "text": [
      "Current training loss: 1.2353:   0%|          | 4/4130 [01:31<26:25:48, 23.06s/it]"
     ]
    },
    {
     "name": "stdout",
     "output_type": "stream",
     "text": [
      "training_data_1/dt_train_792.jpg\n",
      "(720, 1024, 3) (180, 256, 3)\n",
      "torch.Size([3, 720, 1024]) torch.Size([3, 180, 256])\n",
      "1.244913935661316\n"
     ]
    },
    {
     "name": "stderr",
     "output_type": "stream",
     "text": [
      "Current training loss: 1.2353:   0%|          | 4/4130 [01:54<32:55:03, 28.72s/it]\n"
     ]
    },
    {
     "ename": "KeyboardInterrupt",
     "evalue": "",
     "output_type": "error",
     "traceback": [
      "\u001b[0;31m---------------------------------------------------------------------------\u001b[0m",
      "\u001b[0;31mKeyboardInterrupt\u001b[0m                         Traceback (most recent call last)",
      "\u001b[0;32m<ipython-input-11-96d62689e146>\u001b[0m in \u001b[0;36m<module>\u001b[0;34m\u001b[0m\n\u001b[1;32m      1\u001b[0m \u001b[0;32mfor\u001b[0m \u001b[0mepoch\u001b[0m \u001b[0;32min\u001b[0m \u001b[0mrange\u001b[0m\u001b[0;34m(\u001b[0m\u001b[0mepochs\u001b[0m\u001b[0;34m)\u001b[0m\u001b[0;34m:\u001b[0m\u001b[0;34m\u001b[0m\u001b[0;34m\u001b[0m\u001b[0m\n\u001b[1;32m      2\u001b[0m     \u001b[0mprint\u001b[0m\u001b[0;34m(\u001b[0m\u001b[0;34m\"Current Epoch: %d\"\u001b[0m \u001b[0;34m%\u001b[0m \u001b[0mepoch\u001b[0m\u001b[0;34m)\u001b[0m\u001b[0;34m\u001b[0m\u001b[0;34m\u001b[0m\u001b[0m\n\u001b[0;32m----> 3\u001b[0;31m     \u001b[0mtrain\u001b[0m\u001b[0;34m(\u001b[0m\u001b[0mmodel\u001b[0m\u001b[0;34m,\u001b[0m \u001b[0mtrainloader_task_2\u001b[0m\u001b[0;34m,\u001b[0m \u001b[0moptimizer\u001b[0m\u001b[0;34m,\u001b[0m \u001b[0mcuda_enabled\u001b[0m\u001b[0;34m=\u001b[0m\u001b[0muse_cuda\u001b[0m\u001b[0;34m)\u001b[0m\u001b[0;34m\u001b[0m\u001b[0;34m\u001b[0m\u001b[0m\n\u001b[0m\u001b[1;32m      4\u001b[0m     \u001b[0mtest\u001b[0m\u001b[0;34m(\u001b[0m\u001b[0mmodel\u001b[0m\u001b[0;34m,\u001b[0m \u001b[0mtestloader_task_2\u001b[0m\u001b[0;34m,\u001b[0m \u001b[0mcuda_enabled\u001b[0m\u001b[0;34m=\u001b[0m\u001b[0muse_cuda\u001b[0m\u001b[0;34m)\u001b[0m\u001b[0;34m\u001b[0m\u001b[0;34m\u001b[0m\u001b[0m\n",
      "\u001b[0;32m~/Desktop/NMEP/superres-gan/train.py\u001b[0m in \u001b[0;36mtrain\u001b[0;34m(task_2_net, trainloader_2, opt, cuda_enabled)\u001b[0m\n\u001b[1;32m     69\u001b[0m             \u001b[0mtrain_loss_2\u001b[0m \u001b[0;34m+=\u001b[0m \u001b[0mloss\u001b[0m\u001b[0;34m.\u001b[0m\u001b[0mitem\u001b[0m\u001b[0;34m(\u001b[0m\u001b[0;34m)\u001b[0m\u001b[0;34m\u001b[0m\u001b[0;34m\u001b[0m\u001b[0m\n\u001b[1;32m     70\u001b[0m             \u001b[0moptimizer_2\u001b[0m\u001b[0;34m.\u001b[0m\u001b[0mzero_grad\u001b[0m\u001b[0;34m(\u001b[0m\u001b[0;34m)\u001b[0m\u001b[0;34m\u001b[0m\u001b[0;34m\u001b[0m\u001b[0m\n\u001b[0;32m---> 71\u001b[0;31m             \u001b[0mloss\u001b[0m\u001b[0;34m.\u001b[0m\u001b[0mbackward\u001b[0m\u001b[0;34m(\u001b[0m\u001b[0;34m)\u001b[0m\u001b[0;34m\u001b[0m\u001b[0;34m\u001b[0m\u001b[0m\n\u001b[0m\u001b[1;32m     72\u001b[0m             \u001b[0moptimizer_2\u001b[0m\u001b[0;34m.\u001b[0m\u001b[0mstep\u001b[0m\u001b[0;34m(\u001b[0m\u001b[0;34m)\u001b[0m\u001b[0;34m\u001b[0m\u001b[0;34m\u001b[0m\u001b[0m\n\u001b[1;32m     73\u001b[0m             \u001b[0;31m#psnr_running_sum += core.get_PSNR(outputs, labels)\u001b[0m\u001b[0;34m\u001b[0m\u001b[0;34m\u001b[0m\u001b[0;34m\u001b[0m\u001b[0m\n",
      "\u001b[0;32m/opt/anaconda3/lib/python3.7/site-packages/torch/tensor.py\u001b[0m in \u001b[0;36mbackward\u001b[0;34m(self, gradient, retain_graph, create_graph)\u001b[0m\n\u001b[1;32m    196\u001b[0m                 \u001b[0mproducts\u001b[0m\u001b[0;34m.\u001b[0m \u001b[0mDefaults\u001b[0m \u001b[0mto\u001b[0m\u001b[0;31m \u001b[0m\u001b[0;31m`\u001b[0m\u001b[0;31m`\u001b[0m\u001b[0;32mFalse\u001b[0m\u001b[0;31m`\u001b[0m\u001b[0;31m`\u001b[0m\u001b[0;34m.\u001b[0m\u001b[0;34m\u001b[0m\u001b[0;34m\u001b[0m\u001b[0m\n\u001b[1;32m    197\u001b[0m         \"\"\"\n\u001b[0;32m--> 198\u001b[0;31m         \u001b[0mtorch\u001b[0m\u001b[0;34m.\u001b[0m\u001b[0mautograd\u001b[0m\u001b[0;34m.\u001b[0m\u001b[0mbackward\u001b[0m\u001b[0;34m(\u001b[0m\u001b[0mself\u001b[0m\u001b[0;34m,\u001b[0m \u001b[0mgradient\u001b[0m\u001b[0;34m,\u001b[0m \u001b[0mretain_graph\u001b[0m\u001b[0;34m,\u001b[0m \u001b[0mcreate_graph\u001b[0m\u001b[0;34m)\u001b[0m\u001b[0;34m\u001b[0m\u001b[0;34m\u001b[0m\u001b[0m\n\u001b[0m\u001b[1;32m    199\u001b[0m \u001b[0;34m\u001b[0m\u001b[0m\n\u001b[1;32m    200\u001b[0m     \u001b[0;32mdef\u001b[0m \u001b[0mregister_hook\u001b[0m\u001b[0;34m(\u001b[0m\u001b[0mself\u001b[0m\u001b[0;34m,\u001b[0m \u001b[0mhook\u001b[0m\u001b[0;34m)\u001b[0m\u001b[0;34m:\u001b[0m\u001b[0;34m\u001b[0m\u001b[0;34m\u001b[0m\u001b[0m\n",
      "\u001b[0;32m/opt/anaconda3/lib/python3.7/site-packages/torch/autograd/__init__.py\u001b[0m in \u001b[0;36mbackward\u001b[0;34m(tensors, grad_tensors, retain_graph, create_graph, grad_variables)\u001b[0m\n\u001b[1;32m     98\u001b[0m     Variable._execution_engine.run_backward(\n\u001b[1;32m     99\u001b[0m         \u001b[0mtensors\u001b[0m\u001b[0;34m,\u001b[0m \u001b[0mgrad_tensors\u001b[0m\u001b[0;34m,\u001b[0m \u001b[0mretain_graph\u001b[0m\u001b[0;34m,\u001b[0m \u001b[0mcreate_graph\u001b[0m\u001b[0;34m,\u001b[0m\u001b[0;34m\u001b[0m\u001b[0;34m\u001b[0m\u001b[0m\n\u001b[0;32m--> 100\u001b[0;31m         allow_unreachable=True)  # allow_unreachable flag\n\u001b[0m\u001b[1;32m    101\u001b[0m \u001b[0;34m\u001b[0m\u001b[0m\n\u001b[1;32m    102\u001b[0m \u001b[0;34m\u001b[0m\u001b[0m\n",
      "\u001b[0;31mKeyboardInterrupt\u001b[0m: "
     ]
    }
   ],
   "source": [
    "for epoch in range(epochs):\n",
    "    print(\"Current Epoch: %d\" % epoch)\n",
    "    train(model, trainloader_task_2, optimizer, cuda_enabled=use_cuda)\n",
    "    test(model, testloader_task_2, cuda_enabled=use_cuda)"
   ]
  },
  {
   "cell_type": "code",
   "execution_count": 12,
   "metadata": {},
   "outputs": [
    {
     "name": "stdout",
     "output_type": "stream",
     "text": [
      "tensor([[[0.0784, 0.1294, 0.2784,  ..., 0.4196, 0.4196, 0.4196],\n",
      "         [0.3647, 0.4471, 0.4549,  ..., 0.4196, 0.4235, 0.4235],\n",
      "         [0.4431, 0.4392, 0.4314,  ..., 0.4157, 0.4196, 0.4235],\n",
      "         ...,\n",
      "         [0.0392, 0.0471, 0.0431,  ..., 0.1098, 0.0941, 0.0902],\n",
      "         [0.0314, 0.0353, 0.0353,  ..., 0.0863, 0.0863, 0.0902],\n",
      "         [0.0510, 0.0431, 0.0314,  ..., 0.1020, 0.0941, 0.1216]],\n",
      "\n",
      "        [[0.1216, 0.1804, 0.3333,  ..., 0.5137, 0.5137, 0.5137],\n",
      "         [0.4078, 0.4980, 0.5098,  ..., 0.5137, 0.5176, 0.5176],\n",
      "         [0.4980, 0.5059, 0.5059,  ..., 0.5098, 0.5098, 0.5137],\n",
      "         ...,\n",
      "         [0.0863, 0.0863, 0.0784,  ..., 0.1647, 0.1373, 0.1333],\n",
      "         [0.0784, 0.0745, 0.0706,  ..., 0.1412, 0.1294, 0.1333],\n",
      "         [0.0980, 0.0824, 0.0667,  ..., 0.1412, 0.1373, 0.1647]],\n",
      "\n",
      "        [[0.2078, 0.2667, 0.4196,  ..., 0.6078, 0.6078, 0.6078],\n",
      "         [0.4941, 0.5843, 0.5961,  ..., 0.6000, 0.5961, 0.5961],\n",
      "         [0.5843, 0.5882, 0.5882,  ..., 0.5961, 0.5961, 0.6000],\n",
      "         ...,\n",
      "         [0.2196, 0.2196, 0.2118,  ..., 0.2745, 0.2471, 0.2431],\n",
      "         [0.2118, 0.2078, 0.2039,  ..., 0.2314, 0.2353, 0.2392],\n",
      "         [0.2314, 0.2157, 0.2000,  ..., 0.2353, 0.2431, 0.2706]]])\n"
     ]
    }
   ],
   "source": [
    "path_to_test_img = \"./output.jpg\"\n",
    "x = cv2.imread(path_to_test_img, cv2.IMREAD_COLOR)\n",
    "x = super_res_data.convert_image_small(x)\n",
    "print(x)\n",
    "x = x.unsqueeze(0)\n",
    "output_test = model(x)"
   ]
  },
  {
   "cell_type": "code",
   "execution_count": 38,
   "metadata": {},
   "outputs": [
    {
     "name": "stdout",
     "output_type": "stream",
     "text": [
      "torch.Size([1, 3, 720, 1024])\n",
      "torch.Size([1, 3, 180, 256])\n",
      "torch.Size([3, 720, 1024])\n"
     ]
    },
    {
     "data": {
      "image/png": "[encoded data removed]",
      "text/plain": [
       "<Figure size 432x288 with 1 Axes>"
      ]
     },
     "metadata": {
      "needs_background": "light"
     },
     "output_type": "display_data"
    }
   ],
   "source": [
    "import matplotlib.pyplot as plt\n",
    "import numpy as np\n",
    "import torch\n",
    "import torchvision.transforms as transforms\n",
    "print(output_test.shape)\n",
    "print(x.shape)\n",
    "for i in output_test:\n",
    "    print(i.shape)\n",
    "    plt.imshow(transforms.ToPILImage()(i))\n",
    "#imgplot = plt.imshow(output_test.detach.numpy())\n",
    "#plt.imshow(torchvision.transforms.ToPILImage()(output_test), interpolation=\"bicubic\")\n",
    "#temp = torch.flatten(output_test, start_dim = 2)\n",
    "#print(temp.shape)\n",
    "#plt.imshow(output_test.permute(1,2,0))\n",
    "#plt.imshow(output_test.detach().numpy()[0])"
   ]
  },
  {
   "cell_type": "code",
   "execution_count": null,
   "metadata": {},
   "outputs": [],
   "source": [
    "output_test = model(prep_img(super_res_data[0][0]))"
   ]
  }
 ],
 "metadata": {
  "kernelspec": {
   "display_name": "Python 3",
   "language": "python",
   "name": "python3"
  },
  "language_info": {
   "codemirror_mode": {
    "name": "ipython",
    "version": 3
   },
   "file_extension": ".py",
   "mimetype": "text/x-python",
   "name": "python",
   "nbconvert_exporter": "python",
   "pygments_lexer": "ipython3",
   "version": "3.7.4"
  }
 },
 "nbformat": 4,
 "nbformat_minor": 4
}
