{
 "cells": [
  {
   "cell_type": "code",
   "execution_count": null,
   "metadata": {},
   "outputs": [],
   "source": [
    "from reds_dataset import Reds\n",
    "from models.superresblock import SuperRes\n",
    "from torch.optim import Adam\n",
    "from torch import nn\n",
    "from models.lossfunc import PerceptualLoss\n",
    "from train import train, test"
   ]
  },
  {
   "cell_type": "code",
   "execution_count": null,
   "metadata": {},
   "outputs": [],
   "source": [
    "path_to_data = \"PATH\""
   ]
  },
  {
   "cell_type": "code",
   "execution_count": null,
   "metadata": {},
   "outputs": [],
   "source": [
    "super_res_data = Reds(path_to_data)"
   ]
  },
  {
   "cell_type": "code",
   "execution_count": null,
   "metadata": {},
   "outputs": [],
   "source": [
    "model = SuperRes()\n",
    "model.cuda()"
   ]
  },
  {
   "cell_type": "code",
   "execution_count": null,
   "metadata": {},
   "outputs": [],
   "source": [
    "optimizer = Adam(model.parameters(), lr=1e-3) #parameters returns an iterator over the models parameters"
   ]
  },
  {
   "cell_type": "code",
   "execution_count": null,
   "metadata": {},
   "outputs": [],
   "source": [
    "vgg = vgg16(pretrained=True)\n",
    "relu2_2 = nn.Sequential(*list(vgg.features)[:9])\n",
    "relu2_2.eval()\n",
    "relu2_2.cuda()"
   ]
  },
  {
   "cell_type": "code",
   "execution_count": null,
   "metadata": {},
   "outputs": [],
   "source": [
    "criterion = PerceptualLoss(loss_network=relu2_2)"
   ]
  },
  {
   "cell_type": "code",
   "execution_count": null,
   "metadata": {},
   "outputs": [],
   "source": [
    "#gotta write code to visualise some of our data"
   ]
  },
  {
   "cell_type": "code",
   "execution_count": null,
   "metadata": {},
   "outputs": [],
   "source": [
    "trainloader_task_1, testloader_task_1, trainloader_task_2, testloader_task_2 = setup_data(config)"
   ]
  },
  {
   "cell_type": "code",
   "execution_count": null,
   "metadata": {},
   "outputs": [],
   "source": [
    "backbone = models.DenseNetBackbone().cuda()\n",
    "net_seg = models.SegmentationModelDenseNet().cuda()\n",
    "\n",
    "backbone = torch.nn.DataParallel(backbone, device_ids=range(torch.cuda.device_count()))\n",
    "net_seg = torch.nn.DataParallel(net_seg, device_ids=range(torch.cuda.device_count()))\n",
    "net_sr = torch.nn.DataParallel(net_sr, device_ids=range(torch.cuda.device_count()))\n",
    "\n",
    "epochs = 25 #to see if we have no errors, we can set this value to one"
   ]
  },
  {
   "cell_type": "code",
   "execution_count": null,
   "metadata": {},
   "outputs": [],
   "source": [
    "for epoch in range(epochs):\n",
    "    print(\"Current Epoch: %d\" % epoch)\n",
    "    train(backbone, net_seg, model, trainloader_task_1, trainloader_task_2, config)\n",
    "    test(backbone, net_seg, model, testloader_task_1, testloader_task_2)"
   ]
  },
  {
   "cell_type": "code",
   "execution_count": null,
   "metadata": {},
   "outputs": [],
   "source": [
    "output_test = model(prep_img(super_res_data[0][0]))"
   ]
  }
 ],
 "metadata": {
  "kernelspec": {
   "display_name": "Python 3",
   "language": "python",
   "name": "python3"
  },
  "language_info": {
   "codemirror_mode": {
    "name": "ipython",
    "version": 3
   },
   "file_extension": ".py",
   "mimetype": "text/x-python",
   "name": "python",
   "nbconvert_exporter": "python",
   "pygments_lexer": "ipython3",
   "version": "3.7.6"
  }
 },
 "nbformat": 4,
 "nbformat_minor": 4
}
